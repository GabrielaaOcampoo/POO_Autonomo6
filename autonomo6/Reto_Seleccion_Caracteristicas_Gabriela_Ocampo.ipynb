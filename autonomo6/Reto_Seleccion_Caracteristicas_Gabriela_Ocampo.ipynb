{
 "cells": [
  {
   "cell_type": "markdown",
   "id": "99796ec7",
   "metadata": {},
   "source": [
    "# 🧠 Selección de Características + Modelado Predictivo\n",
    "**Nombre:** Gabriela Ocampo  \n",
    "**Asignatura:** Programación Orientada a Objetos  \n",
    "\n",
    "Este notebook aplica un reto adicional sobre el dataset Titanic, enfocándose en la **selección de características** para mejorar el rendimiento de los modelos de clasificación y regresión."
   ]
  },
  {
   "cell_type": "code",
   "execution_count": 1,
   "id": "a83e1c9b",
   "metadata": {},
   "outputs": [],
   "source": [
    "import pandas as pd\n",
    "import numpy as np\n",
    "import seaborn as sns\n",
    "import matplotlib.pyplot as plt\n",
    "from seaborn import load_dataset\n",
    "from sklearn.model_selection import train_test_split\n",
    "from sklearn.linear_model import LogisticRegression, LinearRegression\n",
    "from sklearn.metrics import classification_report, mean_squared_error, r2_score\n",
    "from sklearn.feature_selection import SelectKBest, f_classif, f_regression\n"
   ]
  },
  {
   "cell_type": "markdown",
   "id": "a533148a",
   "metadata": {},
   "source": [
    "## 1️⃣ Carga y preparación del dataset"
   ]
  },
  {
   "cell_type": "code",
   "execution_count": 2,
   "id": "95642a5f",
   "metadata": {},
   "outputs": [
    {
     "data": {
      "text/html": [
       "<div>\n",
       "<style scoped>\n",
       "    .dataframe tbody tr th:only-of-type {\n",
       "        vertical-align: middle;\n",
       "    }\n",
       "\n",
       "    .dataframe tbody tr th {\n",
       "        vertical-align: top;\n",
       "    }\n",
       "\n",
       "    .dataframe thead th {\n",
       "        text-align: right;\n",
       "    }\n",
       "</style>\n",
       "<table border=\"1\" class=\"dataframe\">\n",
       "  <thead>\n",
       "    <tr style=\"text-align: right;\">\n",
       "      <th></th>\n",
       "      <th>survived</th>\n",
       "      <th>pclass</th>\n",
       "      <th>age</th>\n",
       "      <th>sibsp</th>\n",
       "      <th>parch</th>\n",
       "      <th>fare</th>\n",
       "      <th>adult_male</th>\n",
       "      <th>alone</th>\n",
       "      <th>sex_male</th>\n",
       "      <th>embarked_Q</th>\n",
       "      <th>embarked_S</th>\n",
       "    </tr>\n",
       "  </thead>\n",
       "  <tbody>\n",
       "    <tr>\n",
       "      <th>0</th>\n",
       "      <td>0</td>\n",
       "      <td>3</td>\n",
       "      <td>-0.527298</td>\n",
       "      <td>1</td>\n",
       "      <td>0</td>\n",
       "      <td>-0.516017</td>\n",
       "      <td>True</td>\n",
       "      <td>False</td>\n",
       "      <td>True</td>\n",
       "      <td>False</td>\n",
       "      <td>True</td>\n",
       "    </tr>\n",
       "    <tr>\n",
       "      <th>1</th>\n",
       "      <td>1</td>\n",
       "      <td>1</td>\n",
       "      <td>0.576688</td>\n",
       "      <td>1</td>\n",
       "      <td>0</td>\n",
       "      <td>0.693558</td>\n",
       "      <td>False</td>\n",
       "      <td>False</td>\n",
       "      <td>False</td>\n",
       "      <td>False</td>\n",
       "      <td>False</td>\n",
       "    </tr>\n",
       "    <tr>\n",
       "      <th>2</th>\n",
       "      <td>1</td>\n",
       "      <td>3</td>\n",
       "      <td>-0.251301</td>\n",
       "      <td>0</td>\n",
       "      <td>0</td>\n",
       "      <td>-0.503267</td>\n",
       "      <td>False</td>\n",
       "      <td>True</td>\n",
       "      <td>False</td>\n",
       "      <td>False</td>\n",
       "      <td>True</td>\n",
       "    </tr>\n",
       "    <tr>\n",
       "      <th>3</th>\n",
       "      <td>1</td>\n",
       "      <td>1</td>\n",
       "      <td>0.369691</td>\n",
       "      <td>1</td>\n",
       "      <td>0</td>\n",
       "      <td>0.350080</td>\n",
       "      <td>False</td>\n",
       "      <td>False</td>\n",
       "      <td>False</td>\n",
       "      <td>False</td>\n",
       "      <td>True</td>\n",
       "    </tr>\n",
       "    <tr>\n",
       "      <th>4</th>\n",
       "      <td>0</td>\n",
       "      <td>3</td>\n",
       "      <td>0.369691</td>\n",
       "      <td>0</td>\n",
       "      <td>0</td>\n",
       "      <td>-0.500905</td>\n",
       "      <td>True</td>\n",
       "      <td>True</td>\n",
       "      <td>True</td>\n",
       "      <td>False</td>\n",
       "      <td>True</td>\n",
       "    </tr>\n",
       "  </tbody>\n",
       "</table>\n",
       "</div>"
      ],
      "text/plain": [
       "   survived  pclass       age  sibsp  parch      fare  adult_male  alone  \\\n",
       "0         0       3 -0.527298      1      0 -0.516017        True  False   \n",
       "1         1       1  0.576688      1      0  0.693558       False  False   \n",
       "2         1       3 -0.251301      0      0 -0.503267       False   True   \n",
       "3         1       1  0.369691      1      0  0.350080       False  False   \n",
       "4         0       3  0.369691      0      0 -0.500905        True   True   \n",
       "\n",
       "   sex_male  embarked_Q  embarked_S  \n",
       "0      True       False        True  \n",
       "1     False       False       False  \n",
       "2     False       False        True  \n",
       "3     False       False        True  \n",
       "4      True       False        True  "
      ]
     },
     "execution_count": 2,
     "metadata": {},
     "output_type": "execute_result"
    }
   ],
   "source": [
    "# Cargar dataset Titanic desde seaborn\n",
    "df = load_dataset('titanic')\n",
    "# Eliminar columnas no útiles y filas con nulos\n",
    "df = df.drop(columns=['deck', 'embark_town', 'alive', 'class', 'who'])\n",
    "df = df.dropna(subset=['age', 'embarked', 'fare', 'sex'])\n",
    "# Codificar categóricas\n",
    "df = pd.get_dummies(df, columns=['sex', 'embarked'], drop_first=True)\n",
    "# Normalizar numéricas\n",
    "df[['age', 'fare']] = (df[['age', 'fare']] - df[['age', 'fare']].mean()) / df[['age', 'fare']].std()\n",
    "df.head()"
   ]
  },
  {
   "cell_type": "markdown",
   "id": "093d2eb8",
   "metadata": {},
   "source": [
    "## 2️⃣ Selección de Características - Clasificación"
   ]
  },
  {
   "cell_type": "code",
   "execution_count": 3,
   "id": "5e1b8e49",
   "metadata": {},
   "outputs": [],
   "source": [
    "# Separar datos para clasificación\n",
    "X_cls = df.drop(columns=['survived'])\n",
    "y_cls = df['survived']\n",
    "# Aplicar SelectKBest\n",
    "selector_cls = SelectKBest(score_func=f_classif, k=5)\n",
    "X_cls_selected = selector_cls.fit_transform(X_cls, y_cls)\n",
    "selected_cols_cls = X_cls.columns[selector_cls.get_support()]"
   ]
  },
  {
   "cell_type": "code",
   "execution_count": 4,
   "id": "4d9b491c",
   "metadata": {},
   "outputs": [
    {
     "name": "stdout",
     "output_type": "stream",
     "text": [
      "🔍 Clasificación (SelectKBest):\n",
      "              precision    recall  f1-score   support\n",
      "\n",
      "           0       0.77      0.85      0.81        80\n",
      "           1       0.78      0.68      0.73        63\n",
      "\n",
      "    accuracy                           0.78       143\n",
      "   macro avg       0.78      0.77      0.77       143\n",
      "weighted avg       0.78      0.78      0.77       143\n",
      "\n"
     ]
    }
   ],
   "source": [
    "# Clasificación con características seleccionadas\n",
    "X_train, X_test, y_train, y_test = train_test_split(X_cls[selected_cols_cls], y_cls, test_size=0.2, random_state=42)\n",
    "clf = LogisticRegression(max_iter=200)\n",
    "clf.fit(X_train, y_train)\n",
    "y_pred = clf.predict(X_test)\n",
    "print(\"🔍 Clasificación (SelectKBest):\")\n",
    "print(classification_report(y_test, y_pred))"
   ]
  },
  {
   "cell_type": "markdown",
   "id": "981a5ad0",
   "metadata": {},
   "source": [
    "## 3️⃣ Selección de Características - Regresión"
   ]
  },
  {
   "cell_type": "code",
   "execution_count": 5,
   "id": "1024d51b",
   "metadata": {},
   "outputs": [],
   "source": [
    "# Separar datos para regresión\n",
    "X_reg = df.drop(columns=['fare'])\n",
    "y_reg = df['fare']\n",
    "# Aplicar SelectKBest\n",
    "selector_reg = SelectKBest(score_func=f_regression, k=5)\n",
    "X_reg_selected = selector_reg.fit_transform(X_reg, y_reg)\n",
    "selected_cols_reg = X_reg.columns[selector_reg.get_support()]"
   ]
  },
  {
   "cell_type": "code",
   "execution_count": 6,
   "id": "943b7543",
   "metadata": {},
   "outputs": [
    {
     "name": "stdout",
     "output_type": "stream",
     "text": [
      "📈 Regresión (SelectKBest):\n",
      "MSE: 1.2756588793672619\n",
      "R2: 0.30922817626084853\n"
     ]
    }
   ],
   "source": [
    "# Regresión con características seleccionadas\n",
    "Xr_train, Xr_test, yr_train, yr_test = train_test_split(df[selected_cols_reg], y_reg, test_size=0.2, random_state=42)\n",
    "reg = LinearRegression()\n",
    "reg.fit(Xr_train, yr_train)\n",
    "yr_pred = reg.predict(Xr_test)\n",
    "print(\"📈 Regresión (SelectKBest):\")\n",
    "print(\"MSE:\", mean_squared_error(yr_test, yr_pred))\n",
    "print(\"R2:\", r2_score(yr_test, yr_pred))"
   ]
  },
  {
   "cell_type": "markdown",
   "id": "cee2c759",
   "metadata": {},
   "source": [
    "## ✅ Conclusión\n",
    "- La selección de características permite reducir dimensionalidad y mejorar el rendimiento.\n",
    "- SelectKBest ayuda a identificar las variables más relevantes para cada tipo de modelo.\n",
    "- Ambas tareas (clasificación y regresión) se beneficiaron del preprocesamiento y selección correcta."
   ]
  }
 ],
 "metadata": {
  "kernelspec": {
   "display_name": "unach",
   "language": "python",
   "name": "python3"
  },
  "language_info": {
   "codemirror_mode": {
    "name": "ipython",
    "version": 3
   },
   "file_extension": ".py",
   "mimetype": "text/x-python",
   "name": "python",
   "nbconvert_exporter": "python",
   "pygments_lexer": "ipython3",
   "version": "3.13.3"
  }
 },
 "nbformat": 4,
 "nbformat_minor": 5
}
